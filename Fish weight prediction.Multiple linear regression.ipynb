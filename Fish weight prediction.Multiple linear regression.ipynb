{
 "cells": [
  {
   "cell_type": "code",
   "execution_count": 39,
   "id": "da28b092",
   "metadata": {},
   "outputs": [],
   "source": [
    "import pandas as pd\n",
    "import numpy as np\n",
    "import matplotlib.pyplot as plt\n",
    "import seaborn as sns\n",
    "from sklearn.model_selection import train_test_split\n",
    "from sklearn.linear_model import LinearRegression\n",
    "from sklearn import linear_model"
   ]
  },
  {
   "cell_type": "markdown",
   "id": "22c7855b",
   "metadata": {},
   "source": [
    "# To read data"
   ]
  },
  {
   "cell_type": "code",
   "execution_count": 4,
   "id": "bc81d6b7",
   "metadata": {},
   "outputs": [
    {
     "name": "stdout",
     "output_type": "stream",
     "text": [
      "    Species  Weight  Length1  Length2  Length3   Height   Width\n",
      "0     Bream   242.0     23.2     25.4     30.0  11.5200  4.0200\n",
      "1     Bream   290.0     24.0     26.3     31.2  12.4800  4.3056\n",
      "2     Bream   340.0     23.9     26.5     31.1  12.3778  4.6961\n",
      "3     Bream   363.0     26.3     29.0     33.5  12.7300  4.4555\n",
      "4     Bream   430.0     26.5     29.0     34.0  12.4440  5.1340\n",
      "..      ...     ...      ...      ...      ...      ...     ...\n",
      "154   Smelt    12.2     11.5     12.2     13.4   2.0904  1.3936\n",
      "155   Smelt    13.4     11.7     12.4     13.5   2.4300  1.2690\n",
      "156   Smelt    12.2     12.1     13.0     13.8   2.2770  1.2558\n",
      "157   Smelt    19.7     13.2     14.3     15.2   2.8728  2.0672\n",
      "158   Smelt    19.9     13.8     15.0     16.2   2.9322  1.8792\n",
      "\n",
      "[159 rows x 7 columns]\n"
     ]
    }
   ],
   "source": [
    "df=pd.read_csv(r'C:\\Users\\Paresh H Waikar\\Downloads\\Fish.csv')\n",
    "print(df)"
   ]
  },
  {
   "cell_type": "code",
   "execution_count": 5,
   "id": "de804441",
   "metadata": {},
   "outputs": [
    {
     "name": "stdout",
     "output_type": "stream",
     "text": [
      "Shape of data = (159, 7)\n"
     ]
    }
   ],
   "source": [
    "print('Shape of data =',df.shape)"
   ]
  },
  {
   "cell_type": "code",
   "execution_count": 7,
   "id": "095d7f84",
   "metadata": {},
   "outputs": [
    {
     "name": "stdout",
     "output_type": "stream",
     "text": [
      "<class 'pandas.core.frame.DataFrame'>\n",
      "RangeIndex: 159 entries, 0 to 158\n",
      "Data columns (total 7 columns):\n",
      " #   Column   Non-Null Count  Dtype  \n",
      "---  ------   --------------  -----  \n",
      " 0   Species  159 non-null    object \n",
      " 1   Weight   159 non-null    float64\n",
      " 2   Length1  159 non-null    float64\n",
      " 3   Length2  159 non-null    float64\n",
      " 4   Length3  159 non-null    float64\n",
      " 5   Height   159 non-null    float64\n",
      " 6   Width    159 non-null    float64\n",
      "dtypes: float64(6), object(1)\n",
      "memory usage: 8.8+ KB\n"
     ]
    }
   ],
   "source": [
    "df.info()"
   ]
  },
  {
   "cell_type": "markdown",
   "id": "aef49058",
   "metadata": {},
   "source": [
    "# To find missing values"
   ]
  },
  {
   "cell_type": "code",
   "execution_count": 9,
   "id": "c5e32d77",
   "metadata": {},
   "outputs": [
    {
     "data": {
      "text/plain": [
       "Species    0\n",
       "Weight     0\n",
       "Length1    0\n",
       "Length2    0\n",
       "Length3    0\n",
       "Height     0\n",
       "Width      0\n",
       "dtype: int64"
      ]
     },
     "execution_count": 9,
     "metadata": {},
     "output_type": "execute_result"
    }
   ],
   "source": [
    "df.isna().sum()"
   ]
  },
  {
   "cell_type": "markdown",
   "id": "05a09f4e",
   "metadata": {},
   "source": [
    "# Count of species"
   ]
  },
  {
   "cell_type": "code",
   "execution_count": 12,
   "id": "5a77907d",
   "metadata": {},
   "outputs": [
    {
     "name": "stdout",
     "output_type": "stream",
     "text": [
      "Perch        56\n",
      "Bream        35\n",
      "Roach        20\n",
      "Pike         17\n",
      "Smelt        14\n",
      "Parkki       11\n",
      "Whitefish     6\n",
      "Name: Species, dtype: int64\n"
     ]
    }
   ],
   "source": [
    "sp_count = df.Species.value_counts()\n",
    "print(sp_count)"
   ]
  },
  {
   "cell_type": "code",
   "execution_count": 14,
   "id": "3eb2aeb4",
   "metadata": {},
   "outputs": [
    {
     "data": {
      "text/html": [
       "<div>\n",
       "<style scoped>\n",
       "    .dataframe tbody tr th:only-of-type {\n",
       "        vertical-align: middle;\n",
       "    }\n",
       "\n",
       "    .dataframe tbody tr th {\n",
       "        vertical-align: top;\n",
       "    }\n",
       "\n",
       "    .dataframe thead th {\n",
       "        text-align: right;\n",
       "    }\n",
       "</style>\n",
       "<table border=\"1\" class=\"dataframe\">\n",
       "  <thead>\n",
       "    <tr style=\"text-align: right;\">\n",
       "      <th></th>\n",
       "      <th>Perch</th>\n",
       "      <th>Bream</th>\n",
       "      <th>Roach</th>\n",
       "      <th>Pike</th>\n",
       "      <th>Smelt</th>\n",
       "      <th>Parkki</th>\n",
       "      <th>Whitefish</th>\n",
       "    </tr>\n",
       "  </thead>\n",
       "  <tbody>\n",
       "    <tr>\n",
       "      <th>Species</th>\n",
       "      <td>56</td>\n",
       "      <td>35</td>\n",
       "      <td>20</td>\n",
       "      <td>17</td>\n",
       "      <td>14</td>\n",
       "      <td>11</td>\n",
       "      <td>6</td>\n",
       "    </tr>\n",
       "  </tbody>\n",
       "</table>\n",
       "</div>"
      ],
      "text/plain": [
       "         Perch  Bream  Roach  Pike  Smelt  Parkki  Whitefish\n",
       "Species     56     35     20    17     14      11          6"
      ]
     },
     "execution_count": 14,
     "metadata": {},
     "output_type": "execute_result"
    }
   ],
   "source": [
    "sp_count = pd.DataFrame(sp_count)\n",
    "sp_count.T"
   ]
  },
  {
   "cell_type": "code",
   "execution_count": 17,
   "id": "1fc13965",
   "metadata": {},
   "outputs": [
    {
     "data": {
      "text/plain": [
       "Text(0, 0.5, 'count of species')"
      ]
     },
     "execution_count": 17,
     "metadata": {},
     "output_type": "execute_result"
    },
    {
     "data": {
      "image/png": "[encoded data removed]",
      "text/plain": [
       "<Figure size 432x288 with 1 Axes>"
      ]
     },
     "metadata": {
      "needs_background": "light"
     },
     "output_type": "display_data"
    }
   ],
   "source": [
    "sns.barplot(x=sp_count.index,y=sp_count.Species)\n",
    "plt.xlabel('species')\n",
    "plt.ylabel('count of species')"
   ]
  },
  {
   "cell_type": "code",
   "execution_count": 18,
   "id": "2b6390ec",
   "metadata": {},
   "outputs": [
    {
     "data": {
      "text/html": [
       "<div>\n",
       "<style scoped>\n",
       "    .dataframe tbody tr th:only-of-type {\n",
       "        vertical-align: middle;\n",
       "    }\n",
       "\n",
       "    .dataframe tbody tr th {\n",
       "        vertical-align: top;\n",
       "    }\n",
       "\n",
       "    .dataframe thead th {\n",
       "        text-align: right;\n",
       "    }\n",
       "</style>\n",
       "<table border=\"1\" class=\"dataframe\">\n",
       "  <thead>\n",
       "    <tr style=\"text-align: right;\">\n",
       "      <th></th>\n",
       "      <th>Weight</th>\n",
       "      <th>Length1</th>\n",
       "      <th>Length2</th>\n",
       "      <th>Length3</th>\n",
       "      <th>Height</th>\n",
       "      <th>Width</th>\n",
       "    </tr>\n",
       "  </thead>\n",
       "  <tbody>\n",
       "    <tr>\n",
       "      <th>Weight</th>\n",
       "      <td>1.000000</td>\n",
       "      <td>0.915712</td>\n",
       "      <td>0.918618</td>\n",
       "      <td>0.923044</td>\n",
       "      <td>0.724345</td>\n",
       "      <td>0.886507</td>\n",
       "    </tr>\n",
       "    <tr>\n",
       "      <th>Length1</th>\n",
       "      <td>0.915712</td>\n",
       "      <td>1.000000</td>\n",
       "      <td>0.999517</td>\n",
       "      <td>0.992031</td>\n",
       "      <td>0.625378</td>\n",
       "      <td>0.867050</td>\n",
       "    </tr>\n",
       "    <tr>\n",
       "      <th>Length2</th>\n",
       "      <td>0.918618</td>\n",
       "      <td>0.999517</td>\n",
       "      <td>1.000000</td>\n",
       "      <td>0.994103</td>\n",
       "      <td>0.640441</td>\n",
       "      <td>0.873547</td>\n",
       "    </tr>\n",
       "    <tr>\n",
       "      <th>Length3</th>\n",
       "      <td>0.923044</td>\n",
       "      <td>0.992031</td>\n",
       "      <td>0.994103</td>\n",
       "      <td>1.000000</td>\n",
       "      <td>0.703409</td>\n",
       "      <td>0.878520</td>\n",
       "    </tr>\n",
       "    <tr>\n",
       "      <th>Height</th>\n",
       "      <td>0.724345</td>\n",
       "      <td>0.625378</td>\n",
       "      <td>0.640441</td>\n",
       "      <td>0.703409</td>\n",
       "      <td>1.000000</td>\n",
       "      <td>0.792881</td>\n",
       "    </tr>\n",
       "    <tr>\n",
       "      <th>Width</th>\n",
       "      <td>0.886507</td>\n",
       "      <td>0.867050</td>\n",
       "      <td>0.873547</td>\n",
       "      <td>0.878520</td>\n",
       "      <td>0.792881</td>\n",
       "      <td>1.000000</td>\n",
       "    </tr>\n",
       "  </tbody>\n",
       "</table>\n",
       "</div>"
      ],
      "text/plain": [
       "           Weight   Length1   Length2   Length3    Height     Width\n",
       "Weight   1.000000  0.915712  0.918618  0.923044  0.724345  0.886507\n",
       "Length1  0.915712  1.000000  0.999517  0.992031  0.625378  0.867050\n",
       "Length2  0.918618  0.999517  1.000000  0.994103  0.640441  0.873547\n",
       "Length3  0.923044  0.992031  0.994103  1.000000  0.703409  0.878520\n",
       "Height   0.724345  0.625378  0.640441  0.703409  1.000000  0.792881\n",
       "Width    0.886507  0.867050  0.873547  0.878520  0.792881  1.000000"
      ]
     },
     "execution_count": 18,
     "metadata": {},
     "output_type": "execute_result"
    }
   ],
   "source": [
    "df.corr()"
   ]
  },
  {
   "cell_type": "code",
   "execution_count": 19,
   "id": "24fac3b2",
   "metadata": {},
   "outputs": [
    {
     "data": {
      "text/plain": [
       "<AxesSubplot:>"
      ]
     },
     "execution_count": 19,
     "metadata": {},
     "output_type": "execute_result"
    },
    {
     "data": {
      "image/png": "[encoded data removed]",
      "text/plain": [
       "<Figure size 432x288 with 2 Axes>"
      ]
     },
     "metadata": {
      "needs_background": "light"
     },
     "output_type": "display_data"
    }
   ],
   "source": [
    "sns.heatmap(df.corr(),annot=True)"
   ]
  },
  {
   "cell_type": "markdown",
   "id": "c14f346e",
   "metadata": {},
   "source": [
    "# High amount of corelatin b/w independent variable are affect the model accuracy"
   ]
  },
  {
   "cell_type": "code",
   "execution_count": 21,
   "id": "51155d00",
   "metadata": {},
   "outputs": [
    {
     "name": "stdout",
     "output_type": "stream",
     "text": [
      "    Species  Weight   Height   Width\n",
      "0     Bream   242.0  11.5200  4.0200\n",
      "1     Bream   290.0  12.4800  4.3056\n",
      "2     Bream   340.0  12.3778  4.6961\n",
      "3     Bream   363.0  12.7300  4.4555\n",
      "4     Bream   430.0  12.4440  5.1340\n",
      "..      ...     ...      ...     ...\n",
      "154   Smelt    12.2   2.0904  1.3936\n",
      "155   Smelt    13.4   2.4300  1.2690\n",
      "156   Smelt    12.2   2.2770  1.2558\n",
      "157   Smelt    19.7   2.8728  2.0672\n",
      "158   Smelt    19.9   2.9322  1.8792\n",
      "\n",
      "[159 rows x 4 columns]\n"
     ]
    }
   ],
   "source": [
    "df1 = df.drop(['Length1','Length2','Length3'],axis=1)\n",
    "print(df1)"
   ]
  },
  {
   "cell_type": "markdown",
   "id": "3f5a73fd",
   "metadata": {},
   "source": [
    "# Detection of outliers"
   ]
  },
  {
   "cell_type": "code",
   "execution_count": 23,
   "id": "d5fbca02",
   "metadata": {},
   "outputs": [
    {
     "data": {
      "text/plain": [
       "Text(0.5, 1.0, 'Outlier Detection based on Weight')"
      ]
     },
     "execution_count": 23,
     "metadata": {},
     "output_type": "execute_result"
    },
    {
     "data": {
      "image/png": "[encoded data removed]",
      "text/plain": [
       "<Figure size 432x288 with 1 Axes>"
      ]
     },
     "metadata": {
      "needs_background": "light"
     },
     "output_type": "display_data"
    }
   ],
   "source": [
    "sns.boxplot(x=df1['Weight'])\n",
    "plt.title('Outlier Detection based on Weight')"
   ]
  },
  {
   "cell_type": "code",
   "execution_count": 24,
   "id": "ec897d35",
   "metadata": {},
   "outputs": [
    {
     "data": {
      "text/plain": [
       "Text(0.5, 1.0, 'Outlier Detection based on Height')"
      ]
     },
     "execution_count": 24,
     "metadata": {},
     "output_type": "execute_result"
    },
    {
     "data": {
      "image/png": "[encoded data removed]",
      "text/plain": [
       "<Figure size 432x288 with 1 Axes>"
      ]
     },
     "metadata": {
      "needs_background": "light"
     },
     "output_type": "display_data"
    }
   ],
   "source": [
    "sns.boxplot(x =df1['Height'])\n",
    "plt.title('Outlier Detection based on Height')"
   ]
  },
  {
   "cell_type": "code",
   "execution_count": 25,
   "id": "dcf5980c",
   "metadata": {},
   "outputs": [
    {
     "data": {
      "text/plain": [
       "Text(0.5, 1.0, 'Outlier Detection based on Width')"
      ]
     },
     "execution_count": 25,
     "metadata": {},
     "output_type": "execute_result"
    },
    {
     "data": {
      "image/png": "[encoded data removed]",
      "text/plain": [
       "<Figure size 432x288 with 1 Axes>"
      ]
     },
     "metadata": {
      "needs_background": "light"
     },
     "output_type": "display_data"
    }
   ],
   "source": [
    "sns.boxplot(x = df1['Width'])\n",
    "plt.title('Outlier Detection based on Width')\n"
   ]
  },
  {
   "cell_type": "markdown",
   "id": "7e100cc0",
   "metadata": {},
   "source": [
    "# We found only outliers in weight, so we will remove that"
   ]
  },
  {
   "cell_type": "code",
   "execution_count": 26,
   "id": "d64bfbd8",
   "metadata": {},
   "outputs": [],
   "source": [
    "def outlier_detection(dataframe):\n",
    "  Q1 = dataframe.quantile(0.25)\n",
    "  Q3 = dataframe.quantile(0.75)\n",
    "  IQR = Q3 - Q1\n",
    "  upper_end = Q3 + 1.5 * IQR\n",
    "  lower_end = Q1 - 1.5 * IQR \n",
    "  outlier = dataframe[(dataframe > upper_end) | (dataframe < lower_end)]\n",
    "  return outlier\n"
   ]
  },
  {
   "cell_type": "code",
   "execution_count": 28,
   "id": "88a9a81d",
   "metadata": {},
   "outputs": [
    {
     "data": {
      "text/plain": [
       "142    1600.0\n",
       "143    1550.0\n",
       "144    1650.0\n",
       "Name: Weight, dtype: float64"
      ]
     },
     "execution_count": 28,
     "metadata": {},
     "output_type": "execute_result"
    }
   ],
   "source": [
    "outlier_detection(df1['Weight'])\n"
   ]
  },
  {
   "cell_type": "code",
   "execution_count": 29,
   "id": "48780c9e",
   "metadata": {},
   "outputs": [
    {
     "data": {
      "text/plain": [
       "(156, 4)"
      ]
     },
     "execution_count": 29,
     "metadata": {},
     "output_type": "execute_result"
    }
   ],
   "source": [
    "df2 = df1.drop([142,143,144])\n",
    "df2.shape"
   ]
  },
  {
   "cell_type": "code",
   "execution_count": 30,
   "id": "3d4ab834",
   "metadata": {},
   "outputs": [
    {
     "data": {
      "text/html": [
       "<div>\n",
       "<style scoped>\n",
       "    .dataframe tbody tr th:only-of-type {\n",
       "        vertical-align: middle;\n",
       "    }\n",
       "\n",
       "    .dataframe tbody tr th {\n",
       "        vertical-align: top;\n",
       "    }\n",
       "\n",
       "    .dataframe thead th {\n",
       "        text-align: right;\n",
       "    }\n",
       "</style>\n",
       "<table border=\"1\" class=\"dataframe\">\n",
       "  <thead>\n",
       "    <tr style=\"text-align: right;\">\n",
       "      <th></th>\n",
       "      <th>count</th>\n",
       "      <th>mean</th>\n",
       "      <th>std</th>\n",
       "      <th>min</th>\n",
       "      <th>25%</th>\n",
       "      <th>50%</th>\n",
       "      <th>75%</th>\n",
       "      <th>max</th>\n",
       "    </tr>\n",
       "  </thead>\n",
       "  <tbody>\n",
       "    <tr>\n",
       "      <th>Weight</th>\n",
       "      <td>156.0</td>\n",
       "      <td>375.217308</td>\n",
       "      <td>319.546978</td>\n",
       "      <td>0.0000</td>\n",
       "      <td>120.000000</td>\n",
       "      <td>271.0000</td>\n",
       "      <td>612.500000</td>\n",
       "      <td>1250.000</td>\n",
       "    </tr>\n",
       "    <tr>\n",
       "      <th>Height</th>\n",
       "      <td>156.0</td>\n",
       "      <td>8.951128</td>\n",
       "      <td>4.324325</td>\n",
       "      <td>1.7284</td>\n",
       "      <td>5.931675</td>\n",
       "      <td>7.6478</td>\n",
       "      <td>12.378550</td>\n",
       "      <td>18.957</td>\n",
       "    </tr>\n",
       "    <tr>\n",
       "      <th>Width</th>\n",
       "      <td>156.0</td>\n",
       "      <td>4.375719</td>\n",
       "      <td>1.672188</td>\n",
       "      <td>1.0476</td>\n",
       "      <td>3.369600</td>\n",
       "      <td>4.2433</td>\n",
       "      <td>5.424375</td>\n",
       "      <td>8.142</td>\n",
       "    </tr>\n",
       "  </tbody>\n",
       "</table>\n",
       "</div>"
      ],
      "text/plain": [
       "        count        mean         std     min         25%       50%  \\\n",
       "Weight  156.0  375.217308  319.546978  0.0000  120.000000  271.0000   \n",
       "Height  156.0    8.951128    4.324325  1.7284    5.931675    7.6478   \n",
       "Width   156.0    4.375719    1.672188  1.0476    3.369600    4.2433   \n",
       "\n",
       "               75%       max  \n",
       "Weight  612.500000  1250.000  \n",
       "Height   12.378550    18.957  \n",
       "Width     5.424375     8.142  "
      ]
     },
     "execution_count": 30,
     "metadata": {},
     "output_type": "execute_result"
    }
   ],
   "source": [
    "df2.describe().T"
   ]
  },
  {
   "cell_type": "code",
   "execution_count": 31,
   "id": "f2bbedc1",
   "metadata": {},
   "outputs": [
    {
     "data": {
      "text/html": [
       "<div>\n",
       "<style scoped>\n",
       "    .dataframe tbody tr th:only-of-type {\n",
       "        vertical-align: middle;\n",
       "    }\n",
       "\n",
       "    .dataframe tbody tr th {\n",
       "        vertical-align: top;\n",
       "    }\n",
       "\n",
       "    .dataframe thead th {\n",
       "        text-align: right;\n",
       "    }\n",
       "</style>\n",
       "<table border=\"1\" class=\"dataframe\">\n",
       "  <thead>\n",
       "    <tr style=\"text-align: right;\">\n",
       "      <th></th>\n",
       "      <th>Height</th>\n",
       "      <th>Width</th>\n",
       "    </tr>\n",
       "  </thead>\n",
       "  <tbody>\n",
       "    <tr>\n",
       "      <th>0</th>\n",
       "      <td>11.5200</td>\n",
       "      <td>4.0200</td>\n",
       "    </tr>\n",
       "    <tr>\n",
       "      <th>1</th>\n",
       "      <td>12.4800</td>\n",
       "      <td>4.3056</td>\n",
       "    </tr>\n",
       "    <tr>\n",
       "      <th>2</th>\n",
       "      <td>12.3778</td>\n",
       "      <td>4.6961</td>\n",
       "    </tr>\n",
       "    <tr>\n",
       "      <th>3</th>\n",
       "      <td>12.7300</td>\n",
       "      <td>4.4555</td>\n",
       "    </tr>\n",
       "    <tr>\n",
       "      <th>4</th>\n",
       "      <td>12.4440</td>\n",
       "      <td>5.1340</td>\n",
       "    </tr>\n",
       "  </tbody>\n",
       "</table>\n",
       "</div>"
      ],
      "text/plain": [
       "    Height   Width\n",
       "0  11.5200  4.0200\n",
       "1  12.4800  4.3056\n",
       "2  12.3778  4.6961\n",
       "3  12.7300  4.4555\n",
       "4  12.4440  5.1340"
      ]
     },
     "execution_count": 31,
     "metadata": {},
     "output_type": "execute_result"
    }
   ],
   "source": [
    "X = df2[['Height','Width']] \n",
    "X.head()"
   ]
  },
  {
   "cell_type": "code",
   "execution_count": 32,
   "id": "4fd6b0b7",
   "metadata": {},
   "outputs": [
    {
     "data": {
      "text/html": [
       "<div>\n",
       "<style scoped>\n",
       "    .dataframe tbody tr th:only-of-type {\n",
       "        vertical-align: middle;\n",
       "    }\n",
       "\n",
       "    .dataframe tbody tr th {\n",
       "        vertical-align: top;\n",
       "    }\n",
       "\n",
       "    .dataframe thead th {\n",
       "        text-align: right;\n",
       "    }\n",
       "</style>\n",
       "<table border=\"1\" class=\"dataframe\">\n",
       "  <thead>\n",
       "    <tr style=\"text-align: right;\">\n",
       "      <th></th>\n",
       "      <th>Weight</th>\n",
       "    </tr>\n",
       "  </thead>\n",
       "  <tbody>\n",
       "    <tr>\n",
       "      <th>0</th>\n",
       "      <td>242.0</td>\n",
       "    </tr>\n",
       "    <tr>\n",
       "      <th>1</th>\n",
       "      <td>290.0</td>\n",
       "    </tr>\n",
       "    <tr>\n",
       "      <th>2</th>\n",
       "      <td>340.0</td>\n",
       "    </tr>\n",
       "    <tr>\n",
       "      <th>3</th>\n",
       "      <td>363.0</td>\n",
       "    </tr>\n",
       "    <tr>\n",
       "      <th>4</th>\n",
       "      <td>430.0</td>\n",
       "    </tr>\n",
       "  </tbody>\n",
       "</table>\n",
       "</div>"
      ],
      "text/plain": [
       "   Weight\n",
       "0   242.0\n",
       "1   290.0\n",
       "2   340.0\n",
       "3   363.0\n",
       "4   430.0"
      ]
     },
     "execution_count": 32,
     "metadata": {},
     "output_type": "execute_result"
    }
   ],
   "source": [
    "y = df2[['Weight']]\n",
    "y.head(5)"
   ]
  },
  {
   "cell_type": "markdown",
   "id": "5d8a6e69",
   "metadata": {},
   "source": [
    "# create train and test deta set"
   ]
  },
  {
   "cell_type": "code",
   "execution_count": 33,
   "id": "79cd523b",
   "metadata": {},
   "outputs": [],
   "source": [
    "X_train,X_test, y_train, y_test = train_test_split(X, y, test_size =0.2, random_state = 42)"
   ]
  },
  {
   "cell_type": "code",
   "execution_count": 46,
   "id": "e9d68362",
   "metadata": {},
   "outputs": [
    {
     "name": "stdout",
     "output_type": "stream",
     "text": [
      "X_train dimension=  (124, 2)\n",
      "X_test dimension=  (32, 2)\n",
      "y_train dimension=  (124, 1)\n",
      "y_train dimension=  (32, 1)\n"
     ]
    }
   ],
   "source": [
    "print('X_train dimension= ', X_train.shape)\n",
    "print('X_test dimension= ', X_test.shape)\n",
    "print('y_train dimension= ', y_train.shape)\n",
    "print('y_train dimension= ', y_test.shape)"
   ]
  },
  {
   "cell_type": "code",
   "execution_count": 40,
   "id": "351ae463",
   "metadata": {},
   "outputs": [
    {
     "data": {
      "text/plain": [
       "LinearRegression()"
      ]
     },
     "execution_count": 40,
     "metadata": {},
     "output_type": "execute_result"
    }
   ],
   "source": [
    "model = linear_model.LinearRegression()\n",
    "model.fit(X_train,y_train)\n"
   ]
  },
  {
   "cell_type": "code",
   "execution_count": 49,
   "id": "59423ad5",
   "metadata": {},
   "outputs": [
    {
     "name": "stdout",
     "output_type": "stream",
     "text": [
      "coef=  [[  9.32525809 152.28174651]]\n",
      "intercept=  [-376.11369337]\n",
      "score=  0.8635790946967571\n",
      "score=  0.8613522656210204\n"
     ]
    }
   ],
   "source": [
    "print('coef= ', model.coef_) # Since we have two features(Height and Width), there will be 2 coef\n",
    "print('intercept= ', model.intercept_)\n",
    "print('score= ', model.score(X_test,y_test))\n",
    "print('score= ', model.score(X_train,y_train))"
   ]
  },
  {
   "cell_type": "markdown",
   "id": "67943032",
   "metadata": {},
   "source": [
    "# Predicting the test data"
   ]
  },
  {
   "cell_type": "code",
   "execution_count": 43,
   "id": "f8473075",
   "metadata": {},
   "outputs": [
    {
     "data": {
      "text/plain": [
       "array([[ 258.84035616],\n",
       "       [ 278.26296832],\n",
       "       [ 218.33194717],\n",
       "       [ 114.60734812],\n",
       "       [ 678.90970725],\n",
       "       [ 806.1815965 ],\n",
       "       [ 224.72377883],\n",
       "       [ 388.78485103],\n",
       "       [ 232.18417294],\n",
       "       [ 514.17095802],\n",
       "       [ 631.06715852],\n",
       "       [ 283.75062175],\n",
       "       [ 617.58178659],\n",
       "       [ 869.9661715 ],\n",
       "       [ 626.43584193],\n",
       "       [ 752.41943234],\n",
       "       [ 817.29858371],\n",
       "       [ 321.78531418],\n",
       "       [-160.20777988],\n",
       "       [ 148.00699556],\n",
       "       [ 321.05229908],\n",
       "       [ 551.45209663],\n",
       "       [ 417.36106654],\n",
       "       [ 511.77911706],\n",
       "       [ 750.68102302],\n",
       "       [ 349.78566772],\n",
       "       [ 195.44945144],\n",
       "       [ 348.86764603],\n",
       "       [ 284.7831825 ],\n",
       "       [ 265.81250737],\n",
       "       [ 271.23653309],\n",
       "       [-161.95396719]])"
      ]
     },
     "execution_count": 43,
     "metadata": {},
     "output_type": "execute_result"
    }
   ],
   "source": [
    "y_prediction =  model.predict(X_test)\n",
    "y_prediction\n"
   ]
  },
  {
   "cell_type": "code",
   "execution_count": 44,
   "id": "6754cd63",
   "metadata": {},
   "outputs": [
    {
     "data": {
      "text/html": [
       "<div>\n",
       "<style scoped>\n",
       "    .dataframe tbody tr th:only-of-type {\n",
       "        vertical-align: middle;\n",
       "    }\n",
       "\n",
       "    .dataframe tbody tr th {\n",
       "        vertical-align: top;\n",
       "    }\n",
       "\n",
       "    .dataframe thead th {\n",
       "        text-align: right;\n",
       "    }\n",
       "</style>\n",
       "<table border=\"1\" class=\"dataframe\">\n",
       "  <thead>\n",
       "    <tr style=\"text-align: right;\">\n",
       "      <th></th>\n",
       "      <th>0</th>\n",
       "      <th>1</th>\n",
       "      <th>2</th>\n",
       "      <th>3</th>\n",
       "      <th>4</th>\n",
       "      <th>5</th>\n",
       "      <th>6</th>\n",
       "      <th>7</th>\n",
       "      <th>8</th>\n",
       "      <th>9</th>\n",
       "      <th>...</th>\n",
       "      <th>22</th>\n",
       "      <th>23</th>\n",
       "      <th>24</th>\n",
       "      <th>25</th>\n",
       "      <th>26</th>\n",
       "      <th>27</th>\n",
       "      <th>28</th>\n",
       "      <th>29</th>\n",
       "      <th>30</th>\n",
       "      <th>31</th>\n",
       "    </tr>\n",
       "  </thead>\n",
       "  <tbody>\n",
       "    <tr>\n",
       "      <th>Weight</th>\n",
       "      <td>225.000000</td>\n",
       "      <td>200.000000</td>\n",
       "      <td>110.000000</td>\n",
       "      <td>70.000000</td>\n",
       "      <td>700.000000</td>\n",
       "      <td>1000.000000</td>\n",
       "      <td>150.000000</td>\n",
       "      <td>430.000000</td>\n",
       "      <td>145.000000</td>\n",
       "      <td>770.000000</td>\n",
       "      <td>...</td>\n",
       "      <td>500.000000</td>\n",
       "      <td>500.000000</td>\n",
       "      <td>955.000000</td>\n",
       "      <td>265.000000</td>\n",
       "      <td>145.000000</td>\n",
       "      <td>270.000000</td>\n",
       "      <td>180.000000</td>\n",
       "      <td>145.000000</td>\n",
       "      <td>160.000000</td>\n",
       "      <td>8.700000</td>\n",
       "    </tr>\n",
       "    <tr>\n",
       "      <th>Predicted Weight</th>\n",
       "      <td>258.840356</td>\n",
       "      <td>278.262968</td>\n",
       "      <td>218.331947</td>\n",
       "      <td>114.607348</td>\n",
       "      <td>678.909707</td>\n",
       "      <td>806.181597</td>\n",
       "      <td>224.723779</td>\n",
       "      <td>388.784851</td>\n",
       "      <td>232.184173</td>\n",
       "      <td>514.170958</td>\n",
       "      <td>...</td>\n",
       "      <td>417.361067</td>\n",
       "      <td>511.779117</td>\n",
       "      <td>750.681023</td>\n",
       "      <td>349.785668</td>\n",
       "      <td>195.449451</td>\n",
       "      <td>348.867646</td>\n",
       "      <td>284.783182</td>\n",
       "      <td>265.812507</td>\n",
       "      <td>271.236533</td>\n",
       "      <td>-161.953967</td>\n",
       "    </tr>\n",
       "  </tbody>\n",
       "</table>\n",
       "<p>2 rows × 32 columns</p>\n",
       "</div>"
      ],
      "text/plain": [
       "                          0           1           2           3           4   \\\n",
       "Weight            225.000000  200.000000  110.000000   70.000000  700.000000   \n",
       "Predicted Weight  258.840356  278.262968  218.331947  114.607348  678.909707   \n",
       "\n",
       "                           5           6           7           8           9   \\\n",
       "Weight            1000.000000  150.000000  430.000000  145.000000  770.000000   \n",
       "Predicted Weight   806.181597  224.723779  388.784851  232.184173  514.170958   \n",
       "\n",
       "                  ...          22          23          24          25  \\\n",
       "Weight            ...  500.000000  500.000000  955.000000  265.000000   \n",
       "Predicted Weight  ...  417.361067  511.779117  750.681023  349.785668   \n",
       "\n",
       "                          26          27          28          29          30  \\\n",
       "Weight            145.000000  270.000000  180.000000  145.000000  160.000000   \n",
       "Predicted Weight  195.449451  348.867646  284.783182  265.812507  271.236533   \n",
       "\n",
       "                          31  \n",
       "Weight              8.700000  \n",
       "Predicted Weight -161.953967  \n",
       "\n",
       "[2 rows x 32 columns]"
      ]
     },
     "execution_count": 44,
     "metadata": {},
     "output_type": "execute_result"
    }
   ],
   "source": [
    "predictedWeight = pd.DataFrame(model.predict(X_test), columns=['Predicted Weight'])\n",
    "actualWeight = pd.DataFrame(y_test)\n",
    "actualWeight = actualWeight.reset_index(drop=True) # Drop the index so that we can concat it, to create new dataframe\n",
    "df_actual_vs_predicted = pd.concat([actualWeight,predictedWeight],axis =1)\n",
    "df_actual_vs_predicted.T\n"
   ]
  },
  {
   "cell_type": "code",
   "execution_count": null,
   "id": "68a83f6d",
   "metadata": {},
   "outputs": [],
   "source": []
  }
 ],
 "metadata": {
  "kernelspec": {
   "display_name": "Python 3 (ipykernel)",
   "language": "python",
   "name": "python3"
  },
  "language_info": {
   "codemirror_mode": {
    "name": "ipython",
    "version": 3
   },
   "file_extension": ".py",
   "mimetype": "text/x-python",
   "name": "python",
   "nbconvert_exporter": "python",
   "pygments_lexer": "ipython3",
   "version": "3.9.7"
  }
 },
 "nbformat": 4,
 "nbformat_minor": 5
}
